{
 "cells": [
  {
   "cell_type": "code",
   "execution_count": 2,
   "metadata": {},
   "outputs": [],
   "source": [
    "from sqlalchemy import create_engine\n",
    "my_conn = create_engine(\"mysql+pymysql://root:@localhost/jio_demo\")"
   ]
  },
  {
   "cell_type": "code",
   "execution_count": 7,
   "metadata": {},
   "outputs": [
    {
     "name": "stdout",
     "output_type": "stream",
     "text": [
      "(1, 'https://www.tiktok.com/about', '')\n",
      "(2, 'https://www.facebook.com/', '')\n",
      "(3, 'https://www.microsoft.com/en-in/', '')\n",
      "(4, 'https://www.apple.com/', '')\n",
      "(5, 'https://www.amazon.com/', '')\n",
      "(6, 'https://www.lifewire.com/', '')\n",
      "(7, 'https://www.netflix.com/in/', '')\n",
      "(8, 'https://www.youtube.com/', '')\n",
      "(9, 'https://twitter.com/', '')\n",
      "(10, 'https://www.whatsapp.com/', '')\n",
      "(11, 'https://www.eduba.com/popular/mysql/', '')\n",
      "(12, 'https://www.geeksforges.org/check-if-an-url-is-valid-or-not-using-regular-expression/', '')\n",
      "(13, 'https://community.oacle.com/tech/developers/', '')\n",
      "(14, 'https://www.msqltutorial.net/mysql-select-database/', '')\n",
      "(15, 'https://compareeapssl.com/invalid-url-how-to-fix-invalid-url-issues-on-chrome/', '')\n",
      "(16, 'https://stackoverfl.com/questions/1547899/which-characters-make-a-url-invalid', '')\n",
      "(17, 'https://support.goog.com/merchants/answer/160038?hl=en', '')\n",
      "(18, 'https://powerusers.microft.com/t5/General-Power-Automate/', '')\n",
      "(19, 'https://social.tnet.microsoft.com/forums/sharepoint/en-US/8424a9fa-aa42-4246-8efc-f4731318f265/generating-invalid-url', '')\n",
      "(20, 'https://www.mstecogs.com/paul/quick-and-simple-solve-invalid-url-parameter-problem-with-updatelistitems-in-lists-asmx', '')\n"
     ]
    }
   ],
   "source": [
    "q=\"SELECT * FROM urlvalidation \"\n",
    "rs=my_conn.execute(q)\n",
    "for row in rs:\n",
    "    print (row)"
   ]
  }
 ],
 "metadata": {
  "kernelspec": {
   "display_name": "Python 3.9.10 64-bit",
   "language": "python",
   "name": "python3"
  },
  "language_info": {
   "codemirror_mode": {
    "name": "ipython",
    "version": 3
   },
   "file_extension": ".py",
   "mimetype": "text/x-python",
   "name": "python",
   "nbconvert_exporter": "python",
   "pygments_lexer": "ipython3",
   "version": "3.9.10"
  },
  "orig_nbformat": 4,
  "vscode": {
   "interpreter": {
    "hash": "d4633f4d61ec9589f7ac5d1bf4e036d1390dab6b3b296db6bd4997bb3fab197a"
   }
  }
 },
 "nbformat": 4,
 "nbformat_minor": 2
}
